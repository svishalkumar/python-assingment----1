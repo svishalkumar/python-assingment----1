{
 "cells": [
  {
   "cell_type": "code",
   "execution_count": 6,
   "id": "6ca936f2",
   "metadata": {},
   "outputs": [
    {
     "name": "stdout",
     "output_type": "stream",
     "text": [
      "Name-vishal kumar\n",
      "Addresh-vill+po-puchhariya,ps-sangrampur,dis-east champaran,pin-845434,bihar\n",
      "Email-svishalkumar547@gmail.com\n"
     ]
    }
   ],
   "source": [
    "##exercise 1:Mailing Addresh\n",
    "\n",
    "\n",
    "a=\"Name-vishal kumar\"\n",
    "b=\"Addresh-vill+po-puchhariya,ps-sangrampur,dis-east champaran,pin-845434,bihar\"\n",
    "n=\"Email-svishalkumar547@gmail.com\"\n",
    "print(a)\n",
    "print(b)\n",
    "print(n)"
   ]
  },
  {
   "cell_type": "code",
   "execution_count": 7,
   "id": "2cc2fe13",
   "metadata": {},
   "outputs": [
    {
     "name": "stdout",
     "output_type": "stream",
     "text": [
      "Enter your first Name\n",
      " Python\n",
      "hello Python\n"
     ]
    }
   ],
   "source": [
    "##Exercise--2##\n",
    "\n",
    "\n",
    "g=input(\"Enter your first Name\\n \")\n",
    "print(\"hello\",g)\n"
   ]
  },
  {
   "cell_type": "code",
   "execution_count": null,
   "id": "331118e2",
   "metadata": {},
   "outputs": [],
   "source": []
  },
  {
   "cell_type": "markdown",
   "id": "96204285",
   "metadata": {},
   "source": [
    "Exercise--3"
   ]
  },
  {
   "cell_type": "code",
   "execution_count": 1,
   "id": "3cc3a967",
   "metadata": {},
   "outputs": [
    {
     "name": "stdout",
     "output_type": "stream",
     "text": [
      "enter the lenth of the room in meter = 13.65\n",
      "Enter the width of the room in meter = 11.25\n",
      "153.5625 Square meters\n"
     ]
    }
   ],
   "source": [
    "##here we have used float function because we need float value##\n",
    "\n",
    "\n",
    "lenth=float(input(\"enter the lenth of the room in meter = \"))\n",
    "width=float(input(\"Enter the width of the room in meter = \"))\n",
    "area=lenth*width\n",
    "print(area,\"Square meters\")"
   ]
  },
  {
   "cell_type": "markdown",
   "id": "33e058b4",
   "metadata": {},
   "source": [
    "Exercise--4"
   ]
  },
  {
   "cell_type": "code",
   "execution_count": 14,
   "id": "d8d9e619",
   "metadata": {},
   "outputs": [
    {
     "name": "stdout",
     "output_type": "stream",
     "text": [
      "enter the lenth of the room in feet : 24.15\n",
      "Enter the width of the room feet : 34.21\n",
      "0.018966287878787878\n"
     ]
    }
   ],
   "source": [
    "sqft_per_acre = 43560\n",
    "\n",
    "lenth=float(input(\"enter the lenth of the room in feet : \"))\n",
    "width=float(input(\"Enter the width of the room feet : \"))\n",
    "area=(lenth*width) / sqft_per_acre\n",
    "print(area)"
   ]
  },
  {
   "cell_type": "markdown",
   "id": "c657b203",
   "metadata": {},
   "source": [
    "exercise----6\n"
   ]
  },
  {
   "cell_type": "code",
   "execution_count": 6,
   "id": "0e396f05",
   "metadata": {},
   "outputs": [
    {
     "name": "stdout",
     "output_type": "stream",
     "text": [
      "What is the cost of your meal =463.768\n",
      "18.55072 83.47823999999999 565.79696\n"
     ]
    }
   ],
   "source": [
    "## This program will be compute the tax and  the tip for the meal.\n",
    "\n",
    "## here Tax rate is given by me\n",
    "# in python we use 4% as 0.04 & 18% as 0.18\n",
    "\n",
    "\n",
    "\n",
    "Tax_rate=0.04\n",
    "Tip_rate=0.18\n",
    "cost=float(input(\"What is the cost of your meal =\"))\n",
    "tax=cost*Tax_rate\n",
    "tip=cost*Tip_rate\n",
    "total=cost+tax+tip\n",
    "print(tax,tip,total)"
   ]
  },
  {
   "cell_type": "markdown",
   "id": "078ce8ab",
   "metadata": {},
   "source": [
    "exercise---8"
   ]
  },
  {
   "cell_type": "code",
   "execution_count": 1,
   "id": "2991555b",
   "metadata": {},
   "outputs": [
    {
     "name": "stdout",
     "output_type": "stream",
     "text": [
      "input  your height\n",
      "Feet 5\n",
      "inch 9\n",
      "Your height is : 175 cm.\n"
     ]
    }
   ],
   "source": [
    "##The %d formatter is used to input decimal values, or \n",
    "##whole numbers. If you provide a float value, it will\n",
    "##convert it to a whole number, by truncating the values\n",
    "## after the decimal point.\n",
    "\n",
    "print(\"input  your height\")\n",
    "h_ft=int(input(\"Feet \"))\n",
    "h_inch=int(input(\"inch \"))\n",
    "h_inch += h_ft * 12\n",
    "h_cm = round(h_inch * 2.54, 1)\n",
    "print(\"Your height is : %d cm.\" % h_cm)"
   ]
  },
  {
   "cell_type": "code",
   "execution_count": null,
   "id": "5086a4f0",
   "metadata": {},
   "outputs": [],
   "source": []
  }
 ],
 "metadata": {
  "kernelspec": {
   "display_name": "Python 3 (ipykernel)",
   "language": "python",
   "name": "python3"
  },
  "language_info": {
   "codemirror_mode": {
    "name": "ipython",
    "version": 3
   },
   "file_extension": ".py",
   "mimetype": "text/x-python",
   "name": "python",
   "nbconvert_exporter": "python",
   "pygments_lexer": "ipython3",
   "version": "3.10.9"
  }
 },
 "nbformat": 4,
 "nbformat_minor": 5
}
