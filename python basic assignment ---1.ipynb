{
 "cells": [
  {
   "cell_type": "code",
   "execution_count": 97,
   "id": "947adb49",
   "metadata": {},
   "outputs": [
    {
     "name": "stdout",
     "output_type": "stream",
     "text": [
      "Python is very easy langauge\n"
     ]
    }
   ],
   "source": [
    "#python basic assingnment-----\n",
    "\n",
    "\n",
    "v=\"Python is very easy langauge\"\n",
    "print(v)"
   ]
  },
  {
   "cell_type": "code",
   "execution_count": 3,
   "id": "c6a74242",
   "metadata": {},
   "outputs": [
    {
     "name": "stdout",
     "output_type": "stream",
     "text": [
      "we are learning python\n",
      "Python is case sensetive\n"
     ]
    }
   ],
   "source": [
    "s=\"we are learning python\"\n",
    "print(s)\n",
    "s=\"Python is case sensetive\"\n",
    "print(s)"
   ]
  },
  {
   "cell_type": "code",
   "execution_count": 98,
   "id": "c1d6d508",
   "metadata": {},
   "outputs": [
    {
     "name": "stdout",
     "output_type": "stream",
     "text": [
      "“ hello Brijesh,  are you ready to  learn python? ” \n"
     ]
    }
   ],
   "source": [
    "d=\"“ hello Brijesh, \"\n",
    "print( d,\"are you ready to  learn python? ” \")"
   ]
  },
  {
   "cell_type": "code",
   "execution_count": 11,
   "id": "f0ededd2",
   "metadata": {},
   "outputs": [
    {
     "name": "stdout",
     "output_type": "stream",
     "text": [
      " “Confucius once said-It does not matter how slowly you go, so long as you do  not stop.”\n"
     ]
    }
   ],
   "source": [
    "n=\" “Confucius once said-It does not matter how slowly you go, so long as you do  not stop.”\"\n",
    "print(n)"
   ]
  },
  {
   "cell_type": "code",
   "execution_count": 16,
   "id": "facceb6d",
   "metadata": {},
   "outputs": [
    {
     "name": "stdout",
     "output_type": "stream",
     "text": [
      "Confucius--- It does not matter how slowly you go, so long as you do  not stop.\n"
     ]
    }
   ],
   "source": [
    "famous_person=\"Confucius--- \"\n",
    "message=\"It does not matter how slowly you go, so long as you do  not stop.\"\n",
    "\n",
    "print(famous_person + message)"
   ]
  },
  {
   "cell_type": "code",
   "execution_count": 25,
   "id": "4d9d4ff8",
   "metadata": {},
   "outputs": [
    {
     "name": "stdout",
     "output_type": "stream",
     "text": [
      "8\n",
      "8\n",
      "8\n",
      "8.0\n"
     ]
    }
   ],
   "source": [
    "print(5+3)\n",
    "print(9-1)\n",
    "print(2*4)\n",
    "print(16/2)"
   ]
  },
  {
   "cell_type": "code",
   "execution_count": 12,
   "id": "63c7d945",
   "metadata": {},
   "outputs": [
    {
     "name": "stdout",
     "output_type": "stream",
     "text": [
      "4 is my Favourite number\n"
     ]
    }
   ],
   "source": [
    "f=4\n",
    "\n",
    "print(f, \"is my Favourite number\")"
   ]
  },
  {
   "cell_type": "code",
   "execution_count": 50,
   "id": "fbd23885",
   "metadata": {},
   "outputs": [
    {
     "name": "stdout",
     "output_type": "stream",
     "text": [
      "Python is very eszy to learn\n"
     ]
    }
   ],
   "source": [
    "# Name-vishal kumar\n",
    "# Date- 12/4/2023\n",
    "# This program will print the variable\n",
    "j=\"Python is very eszy to learn\"\n",
    "print(j)\n"
   ]
  },
  {
   "cell_type": "code",
   "execution_count": 88,
   "id": "114d8736",
   "metadata": {},
   "outputs": [
    {
     "name": "stdout",
     "output_type": "stream",
     "text": [
      "Raju\n",
      "pawan\n",
      "mukesh\n",
      "radha\n"
     ]
    }
   ],
   "source": [
    "names=[\"Raju\", \"pawan\", \"mukesh\", \"radha\"]\n",
    "print(names[0])\n",
    "print(names[1])\n",
    "print(names[2])\n",
    "print(names[3])\n"
   ]
  },
  {
   "cell_type": "code",
   "execution_count": 96,
   "id": "5a9bcf06",
   "metadata": {},
   "outputs": [
    {
     "name": "stdout",
     "output_type": "stream",
     "text": [
      "Raju is my best friend\n",
      "pawan is my best friend\n",
      "mukesh is my best friend\n",
      "radha is my best friend\n"
     ]
    }
   ],
   "source": [
    "names=[\"Raju\", \"pawan\", \"mukesh\", \"radha\"]\n",
    "print((names[0]) + \" is my best friend\" )\n",
    "print((names[1])+ \" is my best friend\")\n",
    "print((names[2]) + \" is my best friend\" )\n",
    "print((names[3])+ \" is my best friend\")"
   ]
  },
  {
   "cell_type": "code",
   "execution_count": 116,
   "id": "d8e87bc8",
   "metadata": {},
   "outputs": [
    {
     "name": "stdout",
     "output_type": "stream",
     "text": [
      "“ I would like to own a Bugati .”\n",
      "“ I would like to own a harle davidson .”\n",
      "“ I would like to own a thar .”\n"
     ]
    }
   ],
   "source": [
    "items=[\"Bugati\",\"harle davidson\",\"thar\" ]\n",
    "for i in items:\n",
    "    print(\"“ I would like to own a\", i,\".”\")"
   ]
  },
  {
   "cell_type": "code",
   "execution_count": null,
   "id": "a6ff5178",
   "metadata": {},
   "outputs": [],
   "source": []
  }
 ],
 "metadata": {
  "kernelspec": {
   "display_name": "Python 3 (ipykernel)",
   "language": "python",
   "name": "python3"
  },
  "language_info": {
   "codemirror_mode": {
    "name": "ipython",
    "version": 3
   },
   "file_extension": ".py",
   "mimetype": "text/x-python",
   "name": "python",
   "nbconvert_exporter": "python",
   "pygments_lexer": "ipython3",
   "version": "3.10.9"
  }
 },
 "nbformat": 4,
 "nbformat_minor": 5
}
